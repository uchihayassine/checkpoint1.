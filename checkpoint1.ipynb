{
 "cells": [
  {
   "cell_type": "code",
   "execution_count": 9,
   "id": "5bbdd4a5",
   "metadata": {},
   "outputs": [
    {
     "name": "stdout",
     "output_type": "stream",
     "text": [
      "write your first name: yssn\n",
      "write your last name: benlazreg\n",
      "yssn benlazreg\n"
     ]
    }
   ],
   "source": [
    "firstname=str(input(\"write your first name: \"))\n",
    "lastname=str(input(\"write your last name: \"))\n",
    "username=firstname + \" \"+lastname\n",
    "print(username)"
   ]
  },
  {
   "cell_type": "code",
   "execution_count": 10,
   "id": "e05027ed",
   "metadata": {},
   "outputs": [
    {
     "name": "stdout",
     "output_type": "stream",
     "text": [
      "Input an integer : 7\n",
      "861\n"
     ]
    }
   ],
   "source": [
    "a = int(input(\"Input an integer : \"))\n",
    "n1 = int( \"%s\" % a )\n",
    "n2 = int( \"%s%s\" % (a,a) )\n",
    "n3 = int( \"%s%s%s\" % (a,a,a) )\n",
    "print (n1+n2+n3)"
   ]
  },
  {
   "cell_type": "code",
   "execution_count": 12,
   "id": "b06d4238",
   "metadata": {},
   "outputs": [
    {
     "name": "stdout",
     "output_type": "stream",
     "text": [
      "write a number4\n",
      "the given number is even\n"
     ]
    }
   ],
   "source": [
    "n=int(input(\"write a number\"))\n",
    "if n%2==0:\n",
    "    print(\"the given number is even\")\n",
    "else:\n",
    "    print(\"the given number is odd\")"
   ]
  },
  {
   "cell_type": "code",
   "execution_count": 1,
   "id": "132a8a23",
   "metadata": {},
   "outputs": [
    {
     "name": "stdout",
     "output_type": "stream",
     "text": [
      "2002,2009,2016,2023,2037,2044,2051,2058,2072,2079,2086,2093,2107,2114,2121,2128,2142,2149,2156,2163,2177,2184,2191,2198,2212,2219,2226,2233,2247,2254,2261,2268,2282,2289,2296,2303,2317,2324,2331,2338,2352,2359,2366,2373,2387,2394,2401,2408,2422,2429,2436,2443,2457,2464,2471,2478,2492,2499,2506,2513,2527,2534,2541,2548,2562,2569,2576,2583,2597,2604,2611,2618,2632,2639,2646,2653,2667,2674,2681,2688,2702,2709,2716,2723,2737,2744,2751,2758,2772,2779,2786,2793,2807,2814,2821,2828,2842,2849,2856,2863,2877,2884,2891,2898,2912,2919,2926,2933,2947,2954,2961,2968,2982,2989,2996,3003,3017,3024,3031,3038,3052,3059,3066,3073,3087,3094,3101,3108,3122,3129,3136,3143,3157,3164,3171,3178,3192,3199,"
     ]
    }
   ],
   "source": [
    "#begin\n",
    "for i in range(2000,3201):\n",
    "    if (i%7==0) and ((i%5)!=0):\n",
    "        print(i , end=\",\")\n",
    "\n",
    "    "
   ]
  },
  {
   "cell_type": "code",
   "execution_count": 2,
   "id": "6b99158f",
   "metadata": {},
   "outputs": [
    {
     "name": "stdout",
     "output_type": "stream",
     "text": [
      "write a number5\n",
      "120\n"
     ]
    }
   ],
   "source": [
    "def fact(x):\n",
    "    if x == 0:\n",
    "        return 1\n",
    "    return x * fact(x - 1)\n",
    "\n",
    "x=int(input(\"write a number\"))\n",
    "print(fact(x))"
   ]
  },
  {
   "cell_type": "code",
   "execution_count": 14,
   "id": "1e573b40",
   "metadata": {},
   "outputs": [
    {
     "name": "stdout",
     "output_type": "stream",
     "text": [
      "type here : med noor\n",
      "mdno\n"
     ]
    }
   ],
   "source": [
    "def odd_values_string(str):\n",
    "  result = \"\" \n",
    "  for i in range(len(str)):\n",
    "    if i % 2 == 0:\n",
    "      result = result + str[i]\n",
    "  return result\n",
    "\n",
    "print(odd_values_string(input(\"type here : \")))"
   ]
  },
  {
   "cell_type": "code",
   "execution_count": 20,
   "id": "8993b7db",
   "metadata": {},
   "outputs": [
    {
     "ename": "SyntaxError",
     "evalue": "invalid syntax (<ipython-input-20-53d8d2987939>, line 6)",
     "output_type": "error",
     "traceback": [
      "\u001b[1;36m  File \u001b[1;32m\"<ipython-input-20-53d8d2987939>\"\u001b[1;36m, line \u001b[1;32m6\u001b[0m\n\u001b[1;33m    else (n<200):\u001b[0m\n\u001b[1;37m         ^\u001b[0m\n\u001b[1;31mSyntaxError\u001b[0m\u001b[1;31m:\u001b[0m invalid syntax\n"
     ]
    }
   ],
   "source": [
    "n=int\n",
    "if (n==500) :\n",
    "    n=n*50/100\n",
    "elif (n in[200,500]) :\n",
    "    n=n*30/100\n",
    "else (n= \n",
    "      <200):\n",
    "    n=n*10/100\n",
    "print(n)"
   ]
  },
  {
   "cell_type": "code",
   "execution_count": 9,
   "id": "54a2b4cd",
   "metadata": {},
   "outputs": [
    {
     "name": "stdout",
     "output_type": "stream",
     "text": [
      " the price: 400\n",
      "the new price is  280.0\n"
     ]
    }
   ],
   "source": [
    "price= int(input(\" enter the price: \"))\n",
    "Price2=0\n",
    "if price>=500:\n",
    "  Price2= price-(price/2)\n",
    "elif price>=200 and price<=500:\n",
    "  Price2= price-((price/100)*30)\n",
    "else:\n",
    "  Price2= price-(price/10)\n",
    "print(\"the new price is \",Price2)"
   ]
  }
 ],
 "metadata": {
  "kernelspec": {
   "display_name": "Python 3",
   "language": "python",
   "name": "python3"
  },
  "language_info": {
   "codemirror_mode": {
    "name": "ipython",
    "version": 3
   },
   "file_extension": ".py",
   "mimetype": "text/x-python",
   "name": "python",
   "nbconvert_exporter": "python",
   "pygments_lexer": "ipython3",
   "version": "3.8.8"
  }
 },
 "nbformat": 4,
 "nbformat_minor": 5
}
